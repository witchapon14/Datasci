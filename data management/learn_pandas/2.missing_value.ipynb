{
 "cells": [
  {
   "cell_type": "markdown",
   "id": "582375a7",
   "metadata": {},
   "source": [
    "# Missing Data"
   ]
  },
  {
   "cell_type": "code",
   "execution_count": 14,
   "id": "5bfaca69",
   "metadata": {},
   "outputs": [
    {
     "name": "stdout",
     "output_type": "stream",
     "text": [
      "Sample DataFrame:\n"
     ]
    },
    {
     "data": {
      "text/html": [
       "<div>\n",
       "<style scoped>\n",
       "    .dataframe tbody tr th:only-of-type {\n",
       "        vertical-align: middle;\n",
       "    }\n",
       "\n",
       "    .dataframe tbody tr th {\n",
       "        vertical-align: top;\n",
       "    }\n",
       "\n",
       "    .dataframe thead th {\n",
       "        text-align: right;\n",
       "    }\n",
       "</style>\n",
       "<table border=\"1\" class=\"dataframe\">\n",
       "  <thead>\n",
       "    <tr style=\"text-align: right;\">\n",
       "      <th></th>\n",
       "      <th>School ID</th>\n",
       "      <th>Name</th>\n",
       "      <th>Address</th>\n",
       "      <th>City</th>\n",
       "      <th>Subject</th>\n",
       "      <th>Marks</th>\n",
       "      <th>Rank</th>\n",
       "      <th>Grade</th>\n",
       "    </tr>\n",
       "  </thead>\n",
       "  <tbody>\n",
       "    <tr>\n",
       "      <th>0</th>\n",
       "      <td>101.0</td>\n",
       "      <td>Alice</td>\n",
       "      <td>123 Main St</td>\n",
       "      <td>Los Angeles</td>\n",
       "      <td>Math</td>\n",
       "      <td>85.0</td>\n",
       "      <td>2</td>\n",
       "      <td>B</td>\n",
       "    </tr>\n",
       "    <tr>\n",
       "      <th>1</th>\n",
       "      <td>102.0</td>\n",
       "      <td>Bob</td>\n",
       "      <td>456 Oak Ave</td>\n",
       "      <td>New York</td>\n",
       "      <td>English</td>\n",
       "      <td>92.0</td>\n",
       "      <td>1</td>\n",
       "      <td>A</td>\n",
       "    </tr>\n",
       "    <tr>\n",
       "      <th>2</th>\n",
       "      <td>103.0</td>\n",
       "      <td>Charlie</td>\n",
       "      <td>789 Pine Ln</td>\n",
       "      <td>Houston</td>\n",
       "      <td>Science</td>\n",
       "      <td>78.0</td>\n",
       "      <td>4</td>\n",
       "      <td>C</td>\n",
       "    </tr>\n",
       "    <tr>\n",
       "      <th>3</th>\n",
       "      <td>NaN</td>\n",
       "      <td>David</td>\n",
       "      <td>101 Elm St</td>\n",
       "      <td>Los Angeles</td>\n",
       "      <td>Math</td>\n",
       "      <td>89.0</td>\n",
       "      <td>3</td>\n",
       "      <td>B</td>\n",
       "    </tr>\n",
       "    <tr>\n",
       "      <th>4</th>\n",
       "      <td>105.0</td>\n",
       "      <td>Eva</td>\n",
       "      <td>NaN</td>\n",
       "      <td>Miami</td>\n",
       "      <td>History</td>\n",
       "      <td>NaN</td>\n",
       "      <td>8</td>\n",
       "      <td>D</td>\n",
       "    </tr>\n",
       "    <tr>\n",
       "      <th>5</th>\n",
       "      <td>106.0</td>\n",
       "      <td>Frank</td>\n",
       "      <td>222 Maple Rd</td>\n",
       "      <td>NaN</td>\n",
       "      <td>Math</td>\n",
       "      <td>95.0</td>\n",
       "      <td>1</td>\n",
       "      <td>A</td>\n",
       "    </tr>\n",
       "    <tr>\n",
       "      <th>6</th>\n",
       "      <td>107.0</td>\n",
       "      <td>Grace</td>\n",
       "      <td>444 Cedar Blvd</td>\n",
       "      <td>Houston</td>\n",
       "      <td>Science</td>\n",
       "      <td>80.0</td>\n",
       "      <td>5</td>\n",
       "      <td>C</td>\n",
       "    </tr>\n",
       "    <tr>\n",
       "      <th>7</th>\n",
       "      <td>108.0</td>\n",
       "      <td>Henry</td>\n",
       "      <td>555 Birch Dr</td>\n",
       "      <td>New York</td>\n",
       "      <td>English</td>\n",
       "      <td>88.0</td>\n",
       "      <td>3</td>\n",
       "      <td>B</td>\n",
       "    </tr>\n",
       "  </tbody>\n",
       "</table>\n",
       "</div>"
      ],
      "text/plain": [
       "   School ID     Name         Address         City  Subject  Marks  Rank Grade\n",
       "0      101.0    Alice     123 Main St  Los Angeles     Math   85.0     2     B\n",
       "1      102.0      Bob     456 Oak Ave     New York  English   92.0     1     A\n",
       "2      103.0  Charlie     789 Pine Ln      Houston  Science   78.0     4     C\n",
       "3        NaN    David      101 Elm St  Los Angeles     Math   89.0     3     B\n",
       "4      105.0      Eva             NaN        Miami  History    NaN     8     D\n",
       "5      106.0    Frank    222 Maple Rd          NaN     Math   95.0     1     A\n",
       "6      107.0    Grace  444 Cedar Blvd      Houston  Science   80.0     5     C\n",
       "7      108.0    Henry    555 Birch Dr     New York  English   88.0     3     B"
      ]
     },
     "execution_count": 14,
     "metadata": {},
     "output_type": "execute_result"
    }
   ],
   "source": [
    "import pandas as pd \n",
    "import numpy as np \n",
    "\n",
    "# Creating a sample DataFrame with missing values \n",
    "data = { \n",
    "    'School ID': [101, 102, 103, np.nan, 105, 106, 107, 108], \n",
    "    'Name': ['Alice', 'Bob', 'Charlie', 'David', 'Eva', 'Frank', 'Grace', 'Henry'], \n",
    "    'Address': ['123 Main St', '456 Oak Ave', '789 Pine Ln', '101 Elm St', np.nan, '222 Maple Rd', '444 Cedar Blvd', '555 Birch Dr'], \n",
    "    'City': ['Los Angeles', 'New York', 'Houston', 'Los Angeles', 'Miami', np.nan, 'Houston', 'New York'], \n",
    "    'Subject': ['Math', 'English', 'Science', 'Math', 'History', 'Math', 'Science', 'English'], \n",
    "    'Marks': [85, 92, 78, 89, np.nan, 95, 80, 88], \n",
    "    'Rank': [2, 1, 4, 3, 8, 1, 5, 3], \n",
    "    'Grade': ['B', 'A', 'C', 'B', 'D', 'A', 'C', 'B'] \n",
    "} \n",
    "\n",
    "df = pd.DataFrame(data) \n",
    "print(\"Sample DataFrame:\") \n",
    "df"
   ]
  },
  {
   "cell_type": "markdown",
   "id": "f2427d24",
   "metadata": {},
   "source": [
    "ตรวจสอบเบื้องต้นดังนี้"
   ]
  },
  {
   "cell_type": "code",
   "execution_count": 12,
   "id": "98190601",
   "metadata": {},
   "outputs": [
    {
     "data": {
      "text/html": [
       "<div>\n",
       "<style scoped>\n",
       "    .dataframe tbody tr th:only-of-type {\n",
       "        vertical-align: middle;\n",
       "    }\n",
       "\n",
       "    .dataframe tbody tr th {\n",
       "        vertical-align: top;\n",
       "    }\n",
       "\n",
       "    .dataframe thead th {\n",
       "        text-align: right;\n",
       "    }\n",
       "</style>\n",
       "<table border=\"1\" class=\"dataframe\">\n",
       "  <thead>\n",
       "    <tr style=\"text-align: right;\">\n",
       "      <th></th>\n",
       "      <th>School ID</th>\n",
       "      <th>Name</th>\n",
       "      <th>Address</th>\n",
       "      <th>City</th>\n",
       "      <th>Subject</th>\n",
       "      <th>Marks</th>\n",
       "      <th>Rank</th>\n",
       "      <th>Grade</th>\n",
       "    </tr>\n",
       "  </thead>\n",
       "  <tbody>\n",
       "    <tr>\n",
       "      <th>0</th>\n",
       "      <td>False</td>\n",
       "      <td>False</td>\n",
       "      <td>False</td>\n",
       "      <td>False</td>\n",
       "      <td>False</td>\n",
       "      <td>False</td>\n",
       "      <td>False</td>\n",
       "      <td>False</td>\n",
       "    </tr>\n",
       "    <tr>\n",
       "      <th>1</th>\n",
       "      <td>False</td>\n",
       "      <td>False</td>\n",
       "      <td>False</td>\n",
       "      <td>False</td>\n",
       "      <td>False</td>\n",
       "      <td>False</td>\n",
       "      <td>False</td>\n",
       "      <td>False</td>\n",
       "    </tr>\n",
       "    <tr>\n",
       "      <th>2</th>\n",
       "      <td>False</td>\n",
       "      <td>False</td>\n",
       "      <td>False</td>\n",
       "      <td>False</td>\n",
       "      <td>False</td>\n",
       "      <td>False</td>\n",
       "      <td>False</td>\n",
       "      <td>False</td>\n",
       "    </tr>\n",
       "    <tr>\n",
       "      <th>3</th>\n",
       "      <td>True</td>\n",
       "      <td>False</td>\n",
       "      <td>False</td>\n",
       "      <td>False</td>\n",
       "      <td>False</td>\n",
       "      <td>False</td>\n",
       "      <td>False</td>\n",
       "      <td>False</td>\n",
       "    </tr>\n",
       "    <tr>\n",
       "      <th>4</th>\n",
       "      <td>False</td>\n",
       "      <td>False</td>\n",
       "      <td>True</td>\n",
       "      <td>False</td>\n",
       "      <td>False</td>\n",
       "      <td>True</td>\n",
       "      <td>False</td>\n",
       "      <td>False</td>\n",
       "    </tr>\n",
       "    <tr>\n",
       "      <th>5</th>\n",
       "      <td>False</td>\n",
       "      <td>False</td>\n",
       "      <td>False</td>\n",
       "      <td>True</td>\n",
       "      <td>False</td>\n",
       "      <td>False</td>\n",
       "      <td>False</td>\n",
       "      <td>False</td>\n",
       "    </tr>\n",
       "    <tr>\n",
       "      <th>6</th>\n",
       "      <td>False</td>\n",
       "      <td>False</td>\n",
       "      <td>False</td>\n",
       "      <td>False</td>\n",
       "      <td>False</td>\n",
       "      <td>False</td>\n",
       "      <td>False</td>\n",
       "      <td>False</td>\n",
       "    </tr>\n",
       "    <tr>\n",
       "      <th>7</th>\n",
       "      <td>False</td>\n",
       "      <td>False</td>\n",
       "      <td>False</td>\n",
       "      <td>False</td>\n",
       "      <td>False</td>\n",
       "      <td>False</td>\n",
       "      <td>False</td>\n",
       "      <td>False</td>\n",
       "    </tr>\n",
       "  </tbody>\n",
       "</table>\n",
       "</div>"
      ],
      "text/plain": [
       "   School ID   Name  Address   City  Subject  Marks   Rank  Grade\n",
       "0      False  False    False  False    False  False  False  False\n",
       "1      False  False    False  False    False  False  False  False\n",
       "2      False  False    False  False    False  False  False  False\n",
       "3       True  False    False  False    False  False  False  False\n",
       "4      False  False     True  False    False   True  False  False\n",
       "5      False  False    False   True    False  False  False  False\n",
       "6      False  False    False  False    False  False  False  False\n",
       "7      False  False    False  False    False  False  False  False"
      ]
     },
     "execution_count": 12,
     "metadata": {},
     "output_type": "execute_result"
    }
   ],
   "source": [
    "df.isnull()"
   ]
  },
  {
   "cell_type": "code",
   "execution_count": 10,
   "id": "c521af10",
   "metadata": {},
   "outputs": [
    {
     "data": {
      "text/plain": [
       "School ID    1\n",
       "Name         0\n",
       "Address      1\n",
       "City         1\n",
       "Subject      0\n",
       "Marks        1\n",
       "Rank         0\n",
       "Grade        0\n",
       "dtype: int64"
      ]
     },
     "execution_count": 10,
     "metadata": {},
     "output_type": "execute_result"
    }
   ],
   "source": [
    "df.isnull().sum()"
   ]
  },
  {
   "cell_type": "code",
   "execution_count": 11,
   "id": "0834e63a",
   "metadata": {},
   "outputs": [
    {
     "data": {
      "text/plain": [
       "School ID    1\n",
       "Name         0\n",
       "Address      1\n",
       "City         1\n",
       "Subject      0\n",
       "Marks        1\n",
       "Rank         0\n",
       "Grade        0\n",
       "dtype: int64"
      ]
     },
     "execution_count": 11,
     "metadata": {},
     "output_type": "execute_result"
    }
   ],
   "source": [
    "df.isna().sum()"
   ]
  },
  {
   "cell_type": "markdown",
   "id": "4119d722",
   "metadata": {},
   "source": [
    "# การจัดการกับ missing data มีทั้งหมดสามวิธี"
   ]
  },
  {
   "cell_type": "markdown",
   "id": "87d985e3",
   "metadata": {},
   "source": [
    "# Three Approaches\n",
    "\n",
    "\n",
    "### 1) A Simple Option: Drop Columns or Row with Missing Values\n",
    "\n",
    "The simplest option is to drop columns with missing values. \n",
    "\n",
    "![tut2_approach1](https://storage.googleapis.com/kaggle-media/learn/images/Sax80za.png)\n",
    "\n",
    "Unless most values in the dropped columns are missing, the model loses access to a lot of (potentially useful!) information with this approach.  As an extreme example, consider a dataset with 10,000 rows, where one important column is missing a single entry. This approach would drop the column entirely!\n",
    "\n",
    "ใช้คำสั่ง `df.dropna()` สำหรับตัด row หรือ column ที่ Nan ออก"
   ]
  },
  {
   "cell_type": "code",
   "execution_count": 5,
   "id": "7853209c",
   "metadata": {},
   "outputs": [],
   "source": [
    "df_clean_1 = df.dropna()"
   ]
  },
  {
   "cell_type": "code",
   "execution_count": 7,
   "id": "89a38e22",
   "metadata": {},
   "outputs": [
    {
     "data": {
      "text/html": [
       "<div>\n",
       "<style scoped>\n",
       "    .dataframe tbody tr th:only-of-type {\n",
       "        vertical-align: middle;\n",
       "    }\n",
       "\n",
       "    .dataframe tbody tr th {\n",
       "        vertical-align: top;\n",
       "    }\n",
       "\n",
       "    .dataframe thead th {\n",
       "        text-align: right;\n",
       "    }\n",
       "</style>\n",
       "<table border=\"1\" class=\"dataframe\">\n",
       "  <thead>\n",
       "    <tr style=\"text-align: right;\">\n",
       "      <th></th>\n",
       "      <th>School ID</th>\n",
       "      <th>Name</th>\n",
       "      <th>Address</th>\n",
       "      <th>City</th>\n",
       "      <th>Subject</th>\n",
       "      <th>Marks</th>\n",
       "      <th>Rank</th>\n",
       "      <th>Grade</th>\n",
       "    </tr>\n",
       "  </thead>\n",
       "  <tbody>\n",
       "    <tr>\n",
       "      <th>0</th>\n",
       "      <td>101.0</td>\n",
       "      <td>Alice</td>\n",
       "      <td>123 Main St</td>\n",
       "      <td>Los Angeles</td>\n",
       "      <td>Math</td>\n",
       "      <td>85.0</td>\n",
       "      <td>2</td>\n",
       "      <td>B</td>\n",
       "    </tr>\n",
       "    <tr>\n",
       "      <th>1</th>\n",
       "      <td>102.0</td>\n",
       "      <td>Bob</td>\n",
       "      <td>456 Oak Ave</td>\n",
       "      <td>New York</td>\n",
       "      <td>English</td>\n",
       "      <td>92.0</td>\n",
       "      <td>1</td>\n",
       "      <td>A</td>\n",
       "    </tr>\n",
       "    <tr>\n",
       "      <th>2</th>\n",
       "      <td>103.0</td>\n",
       "      <td>Charlie</td>\n",
       "      <td>789 Pine Ln</td>\n",
       "      <td>Houston</td>\n",
       "      <td>Science</td>\n",
       "      <td>78.0</td>\n",
       "      <td>4</td>\n",
       "      <td>C</td>\n",
       "    </tr>\n",
       "    <tr>\n",
       "      <th>3</th>\n",
       "      <td>NaN</td>\n",
       "      <td>David</td>\n",
       "      <td>101 Elm St</td>\n",
       "      <td>Los Angeles</td>\n",
       "      <td>Math</td>\n",
       "      <td>89.0</td>\n",
       "      <td>3</td>\n",
       "      <td>B</td>\n",
       "    </tr>\n",
       "    <tr>\n",
       "      <th>4</th>\n",
       "      <td>105.0</td>\n",
       "      <td>Eva</td>\n",
       "      <td>NaN</td>\n",
       "      <td>Miami</td>\n",
       "      <td>History</td>\n",
       "      <td>NaN</td>\n",
       "      <td>8</td>\n",
       "      <td>D</td>\n",
       "    </tr>\n",
       "    <tr>\n",
       "      <th>5</th>\n",
       "      <td>106.0</td>\n",
       "      <td>Frank</td>\n",
       "      <td>222 Maple Rd</td>\n",
       "      <td>NaN</td>\n",
       "      <td>Math</td>\n",
       "      <td>95.0</td>\n",
       "      <td>1</td>\n",
       "      <td>A</td>\n",
       "    </tr>\n",
       "    <tr>\n",
       "      <th>6</th>\n",
       "      <td>107.0</td>\n",
       "      <td>Grace</td>\n",
       "      <td>444 Cedar Blvd</td>\n",
       "      <td>Houston</td>\n",
       "      <td>Science</td>\n",
       "      <td>80.0</td>\n",
       "      <td>5</td>\n",
       "      <td>C</td>\n",
       "    </tr>\n",
       "    <tr>\n",
       "      <th>7</th>\n",
       "      <td>108.0</td>\n",
       "      <td>Henry</td>\n",
       "      <td>555 Birch Dr</td>\n",
       "      <td>New York</td>\n",
       "      <td>English</td>\n",
       "      <td>88.0</td>\n",
       "      <td>3</td>\n",
       "      <td>B</td>\n",
       "    </tr>\n",
       "  </tbody>\n",
       "</table>\n",
       "</div>"
      ],
      "text/plain": [
       "   School ID     Name         Address         City  Subject  Marks  Rank Grade\n",
       "0      101.0    Alice     123 Main St  Los Angeles     Math   85.0     2     B\n",
       "1      102.0      Bob     456 Oak Ave     New York  English   92.0     1     A\n",
       "2      103.0  Charlie     789 Pine Ln      Houston  Science   78.0     4     C\n",
       "3        NaN    David      101 Elm St  Los Angeles     Math   89.0     3     B\n",
       "4      105.0      Eva             NaN        Miami  History    NaN     8     D\n",
       "5      106.0    Frank    222 Maple Rd          NaN     Math   95.0     1     A\n",
       "6      107.0    Grace  444 Cedar Blvd      Houston  Science   80.0     5     C\n",
       "7      108.0    Henry    555 Birch Dr     New York  English   88.0     3     B"
      ]
     },
     "execution_count": 7,
     "metadata": {},
     "output_type": "execute_result"
    }
   ],
   "source": [
    "df"
   ]
  },
  {
   "cell_type": "code",
   "execution_count": 6,
   "id": "b72d6e44",
   "metadata": {},
   "outputs": [
    {
     "data": {
      "text/html": [
       "<div>\n",
       "<style scoped>\n",
       "    .dataframe tbody tr th:only-of-type {\n",
       "        vertical-align: middle;\n",
       "    }\n",
       "\n",
       "    .dataframe tbody tr th {\n",
       "        vertical-align: top;\n",
       "    }\n",
       "\n",
       "    .dataframe thead th {\n",
       "        text-align: right;\n",
       "    }\n",
       "</style>\n",
       "<table border=\"1\" class=\"dataframe\">\n",
       "  <thead>\n",
       "    <tr style=\"text-align: right;\">\n",
       "      <th></th>\n",
       "      <th>School ID</th>\n",
       "      <th>Name</th>\n",
       "      <th>Address</th>\n",
       "      <th>City</th>\n",
       "      <th>Subject</th>\n",
       "      <th>Marks</th>\n",
       "      <th>Rank</th>\n",
       "      <th>Grade</th>\n",
       "    </tr>\n",
       "  </thead>\n",
       "  <tbody>\n",
       "    <tr>\n",
       "      <th>0</th>\n",
       "      <td>101.0</td>\n",
       "      <td>Alice</td>\n",
       "      <td>123 Main St</td>\n",
       "      <td>Los Angeles</td>\n",
       "      <td>Math</td>\n",
       "      <td>85.0</td>\n",
       "      <td>2</td>\n",
       "      <td>B</td>\n",
       "    </tr>\n",
       "    <tr>\n",
       "      <th>1</th>\n",
       "      <td>102.0</td>\n",
       "      <td>Bob</td>\n",
       "      <td>456 Oak Ave</td>\n",
       "      <td>New York</td>\n",
       "      <td>English</td>\n",
       "      <td>92.0</td>\n",
       "      <td>1</td>\n",
       "      <td>A</td>\n",
       "    </tr>\n",
       "    <tr>\n",
       "      <th>2</th>\n",
       "      <td>103.0</td>\n",
       "      <td>Charlie</td>\n",
       "      <td>789 Pine Ln</td>\n",
       "      <td>Houston</td>\n",
       "      <td>Science</td>\n",
       "      <td>78.0</td>\n",
       "      <td>4</td>\n",
       "      <td>C</td>\n",
       "    </tr>\n",
       "    <tr>\n",
       "      <th>6</th>\n",
       "      <td>107.0</td>\n",
       "      <td>Grace</td>\n",
       "      <td>444 Cedar Blvd</td>\n",
       "      <td>Houston</td>\n",
       "      <td>Science</td>\n",
       "      <td>80.0</td>\n",
       "      <td>5</td>\n",
       "      <td>C</td>\n",
       "    </tr>\n",
       "    <tr>\n",
       "      <th>7</th>\n",
       "      <td>108.0</td>\n",
       "      <td>Henry</td>\n",
       "      <td>555 Birch Dr</td>\n",
       "      <td>New York</td>\n",
       "      <td>English</td>\n",
       "      <td>88.0</td>\n",
       "      <td>3</td>\n",
       "      <td>B</td>\n",
       "    </tr>\n",
       "  </tbody>\n",
       "</table>\n",
       "</div>"
      ],
      "text/plain": [
       "   School ID     Name         Address         City  Subject  Marks  Rank Grade\n",
       "0      101.0    Alice     123 Main St  Los Angeles     Math   85.0     2     B\n",
       "1      102.0      Bob     456 Oak Ave     New York  English   92.0     1     A\n",
       "2      103.0  Charlie     789 Pine Ln      Houston  Science   78.0     4     C\n",
       "6      107.0    Grace  444 Cedar Blvd      Houston  Science   80.0     5     C\n",
       "7      108.0    Henry    555 Birch Dr     New York  English   88.0     3     B"
      ]
     },
     "execution_count": 6,
     "metadata": {},
     "output_type": "execute_result"
    }
   ],
   "source": [
    "df_clean_1"
   ]
  },
  {
   "cell_type": "markdown",
   "id": "fa593169",
   "metadata": {},
   "source": [
    "### 2) A Better Option: Imputation\n",
    "\n",
    "**Imputation** fills in the missing values with some number.  For instance, we can fill in the mean value along each column. \n",
    "\n",
    "![tut2_approach2](https://storage.googleapis.com/kaggle-media/learn/images/4BpnlPA.png)\n",
    "\n",
    "The imputed value won't be exactly right in most cases, but it usually leads to more accurate models than you would get from dropping the column entirely.\n",
    "\n",
    "\n",
    "### แบ่งออกเป็นหลายวิธีย่อย\n",
    "**1. Mean Medium Mode**\n",
    "\n",
    "Mean, Median, and Mode Imputation:\n",
    "Replace missing values with the mean, median, or mode of the relevant variable.\n",
    "\n",
    "Simple and efficient: Easy to implement.\n",
    "\n",
    "Can be inaccurate: Doesn’t consider the relationships between variables.\n",
    "\n",
    "เป็นการเติมค่าที่เป็น Nan ด้วยค่ากลาง(Central trendency) ทางสถิติ\n",
    "\n",
    "ใช้คำสั่ง `df['ชื่อcol'].fillna(df['ชื่อcol'].mean())` สำหรับเติมค่ากลางในช่อง nan"
   ]
  },
  {
   "cell_type": "code",
   "execution_count": 17,
   "id": "c3ec7b9b",
   "metadata": {},
   "outputs": [
    {
     "name": "stdout",
     "output_type": "stream",
     "text": [
      "\n",
      "Imputation using Mean:\n"
     ]
    },
    {
     "data": {
      "text/plain": [
       "0    85.000000\n",
       "1    92.000000\n",
       "2    78.000000\n",
       "3    89.000000\n",
       "4    86.714286\n",
       "5    95.000000\n",
       "6    80.000000\n",
       "7    88.000000\n",
       "Name: Marks, dtype: float64"
      ]
     },
     "execution_count": 17,
     "metadata": {},
     "output_type": "execute_result"
    }
   ],
   "source": [
    "# Mean, Median, and Mode Imputation \n",
    "mean_imputation = df['Marks'].fillna(df['Marks'].mean()) \n",
    "print(\"\\nImputation using Mean:\") \n",
    "mean_imputation"
   ]
  },
  {
   "cell_type": "code",
   "execution_count": 18,
   "id": "fe171c95",
   "metadata": {},
   "outputs": [
    {
     "name": "stdout",
     "output_type": "stream",
     "text": [
      "\n",
      "Imputation using Med:\n"
     ]
    },
    {
     "data": {
      "text/plain": [
       "0    85.0\n",
       "1    92.0\n",
       "2    78.0\n",
       "3    89.0\n",
       "4    88.0\n",
       "5    95.0\n",
       "6    80.0\n",
       "7    88.0\n",
       "Name: Marks, dtype: float64"
      ]
     },
     "execution_count": 18,
     "metadata": {},
     "output_type": "execute_result"
    }
   ],
   "source": [
    "median_imputation = df['Marks'].fillna(df['Marks'].median()) \n",
    "print(\"\\nImputation using Med:\") \n",
    "median_imputation"
   ]
  },
  {
   "cell_type": "code",
   "execution_count": 25,
   "id": "a0de14f6",
   "metadata": {},
   "outputs": [
    {
     "name": "stdout",
     "output_type": "stream",
     "text": [
      "\n",
      "Imputation using Mode:\n"
     ]
    },
    {
     "data": {
      "text/plain": [
       "0    85.0\n",
       "1    92.0\n",
       "2    78.0\n",
       "3    89.0\n",
       "4    78.0\n",
       "5    95.0\n",
       "6    80.0\n",
       "7    88.0\n",
       "Name: Marks, dtype: float64"
      ]
     },
     "execution_count": 25,
     "metadata": {},
     "output_type": "execute_result"
    }
   ],
   "source": [
    "mode_imputation = df['Marks'].fillna(df['Marks'].mode().iloc[0]) #ในกรณีที่ค่า Mode มีมากกว่า 1 ค่่าต้องระบุด้วยว่าเอาตัวไหน\n",
    "print(\"\\nImputation using Mode:\") \n",
    "mode_imputation"
   ]
  },
  {
   "cell_type": "markdown",
   "id": "d1771d0f",
   "metadata": {},
   "source": [
    "**2. Forward and Backward Fill**\n",
    "\n",
    "**2.1 Backward Fill (backward_fill)** \n",
    "\n",
    "`df['Marks'].fillna(method='bfill')` or `df['Marks'].bfill()`: This method fills missing values in the ‘Marks’ column using a backward fill strategy. \n",
    "\n",
    "It replaces missing values with the next observed non-missing value in the column.\n",
    "\n",
    "backward_fill: The result is stored in the variable backward_fill.\n",
    "\n",
    "**2.2 Forward Fill (forward_fill)**\n",
    "\n",
    "`df['Marks'].fillna(method='ffill')` or `df['Marks'].ffill()`: This method fills missing values in the ‘Marks’ column of the DataFrame (df) using a forward fill strategy. \n",
    "\n",
    "It replaces missing values with the last observed non-missing value in the column.\n",
    "\n",
    "forward_fill: The result is stored in the variable forward_fill.\n"
   ]
  },
  {
   "cell_type": "code",
   "execution_count": 33,
   "id": "9cd634c6",
   "metadata": {},
   "outputs": [
    {
     "data": {
      "text/html": [
       "<style type=\"text/css\">\n",
       "#T_40498_row3_col0, #T_40498_row4_col2, #T_40498_row4_col5, #T_40498_row5_col3 {\n",
       "  background-color: red;\n",
       "}\n",
       "</style>\n",
       "<table id=\"T_40498\">\n",
       "  <thead>\n",
       "    <tr>\n",
       "      <th class=\"blank level0\" >&nbsp;</th>\n",
       "      <th id=\"T_40498_level0_col0\" class=\"col_heading level0 col0\" >School ID</th>\n",
       "      <th id=\"T_40498_level0_col1\" class=\"col_heading level0 col1\" >Name</th>\n",
       "      <th id=\"T_40498_level0_col2\" class=\"col_heading level0 col2\" >Address</th>\n",
       "      <th id=\"T_40498_level0_col3\" class=\"col_heading level0 col3\" >City</th>\n",
       "      <th id=\"T_40498_level0_col4\" class=\"col_heading level0 col4\" >Subject</th>\n",
       "      <th id=\"T_40498_level0_col5\" class=\"col_heading level0 col5\" >Marks</th>\n",
       "      <th id=\"T_40498_level0_col6\" class=\"col_heading level0 col6\" >Rank</th>\n",
       "      <th id=\"T_40498_level0_col7\" class=\"col_heading level0 col7\" >Grade</th>\n",
       "    </tr>\n",
       "  </thead>\n",
       "  <tbody>\n",
       "    <tr>\n",
       "      <th id=\"T_40498_level0_row0\" class=\"row_heading level0 row0\" >0</th>\n",
       "      <td id=\"T_40498_row0_col0\" class=\"data row0 col0\" >101.000000</td>\n",
       "      <td id=\"T_40498_row0_col1\" class=\"data row0 col1\" >Alice</td>\n",
       "      <td id=\"T_40498_row0_col2\" class=\"data row0 col2\" >123 Main St</td>\n",
       "      <td id=\"T_40498_row0_col3\" class=\"data row0 col3\" >Los Angeles</td>\n",
       "      <td id=\"T_40498_row0_col4\" class=\"data row0 col4\" >Math</td>\n",
       "      <td id=\"T_40498_row0_col5\" class=\"data row0 col5\" >85.000000</td>\n",
       "      <td id=\"T_40498_row0_col6\" class=\"data row0 col6\" >2</td>\n",
       "      <td id=\"T_40498_row0_col7\" class=\"data row0 col7\" >B</td>\n",
       "    </tr>\n",
       "    <tr>\n",
       "      <th id=\"T_40498_level0_row1\" class=\"row_heading level0 row1\" >1</th>\n",
       "      <td id=\"T_40498_row1_col0\" class=\"data row1 col0\" >102.000000</td>\n",
       "      <td id=\"T_40498_row1_col1\" class=\"data row1 col1\" >Bob</td>\n",
       "      <td id=\"T_40498_row1_col2\" class=\"data row1 col2\" >456 Oak Ave</td>\n",
       "      <td id=\"T_40498_row1_col3\" class=\"data row1 col3\" >New York</td>\n",
       "      <td id=\"T_40498_row1_col4\" class=\"data row1 col4\" >English</td>\n",
       "      <td id=\"T_40498_row1_col5\" class=\"data row1 col5\" >92.000000</td>\n",
       "      <td id=\"T_40498_row1_col6\" class=\"data row1 col6\" >1</td>\n",
       "      <td id=\"T_40498_row1_col7\" class=\"data row1 col7\" >A</td>\n",
       "    </tr>\n",
       "    <tr>\n",
       "      <th id=\"T_40498_level0_row2\" class=\"row_heading level0 row2\" >2</th>\n",
       "      <td id=\"T_40498_row2_col0\" class=\"data row2 col0\" >103.000000</td>\n",
       "      <td id=\"T_40498_row2_col1\" class=\"data row2 col1\" >Charlie</td>\n",
       "      <td id=\"T_40498_row2_col2\" class=\"data row2 col2\" >789 Pine Ln</td>\n",
       "      <td id=\"T_40498_row2_col3\" class=\"data row2 col3\" >Houston</td>\n",
       "      <td id=\"T_40498_row2_col4\" class=\"data row2 col4\" >Science</td>\n",
       "      <td id=\"T_40498_row2_col5\" class=\"data row2 col5\" >78.000000</td>\n",
       "      <td id=\"T_40498_row2_col6\" class=\"data row2 col6\" >4</td>\n",
       "      <td id=\"T_40498_row2_col7\" class=\"data row2 col7\" >C</td>\n",
       "    </tr>\n",
       "    <tr>\n",
       "      <th id=\"T_40498_level0_row3\" class=\"row_heading level0 row3\" >3</th>\n",
       "      <td id=\"T_40498_row3_col0\" class=\"data row3 col0\" >nan</td>\n",
       "      <td id=\"T_40498_row3_col1\" class=\"data row3 col1\" >David</td>\n",
       "      <td id=\"T_40498_row3_col2\" class=\"data row3 col2\" >101 Elm St</td>\n",
       "      <td id=\"T_40498_row3_col3\" class=\"data row3 col3\" >Los Angeles</td>\n",
       "      <td id=\"T_40498_row3_col4\" class=\"data row3 col4\" >Math</td>\n",
       "      <td id=\"T_40498_row3_col5\" class=\"data row3 col5\" >89.000000</td>\n",
       "      <td id=\"T_40498_row3_col6\" class=\"data row3 col6\" >3</td>\n",
       "      <td id=\"T_40498_row3_col7\" class=\"data row3 col7\" >B</td>\n",
       "    </tr>\n",
       "    <tr>\n",
       "      <th id=\"T_40498_level0_row4\" class=\"row_heading level0 row4\" >4</th>\n",
       "      <td id=\"T_40498_row4_col0\" class=\"data row4 col0\" >105.000000</td>\n",
       "      <td id=\"T_40498_row4_col1\" class=\"data row4 col1\" >Eva</td>\n",
       "      <td id=\"T_40498_row4_col2\" class=\"data row4 col2\" >nan</td>\n",
       "      <td id=\"T_40498_row4_col3\" class=\"data row4 col3\" >Miami</td>\n",
       "      <td id=\"T_40498_row4_col4\" class=\"data row4 col4\" >History</td>\n",
       "      <td id=\"T_40498_row4_col5\" class=\"data row4 col5\" >nan</td>\n",
       "      <td id=\"T_40498_row4_col6\" class=\"data row4 col6\" >8</td>\n",
       "      <td id=\"T_40498_row4_col7\" class=\"data row4 col7\" >D</td>\n",
       "    </tr>\n",
       "    <tr>\n",
       "      <th id=\"T_40498_level0_row5\" class=\"row_heading level0 row5\" >5</th>\n",
       "      <td id=\"T_40498_row5_col0\" class=\"data row5 col0\" >106.000000</td>\n",
       "      <td id=\"T_40498_row5_col1\" class=\"data row5 col1\" >Frank</td>\n",
       "      <td id=\"T_40498_row5_col2\" class=\"data row5 col2\" >222 Maple Rd</td>\n",
       "      <td id=\"T_40498_row5_col3\" class=\"data row5 col3\" >nan</td>\n",
       "      <td id=\"T_40498_row5_col4\" class=\"data row5 col4\" >Math</td>\n",
       "      <td id=\"T_40498_row5_col5\" class=\"data row5 col5\" >95.000000</td>\n",
       "      <td id=\"T_40498_row5_col6\" class=\"data row5 col6\" >1</td>\n",
       "      <td id=\"T_40498_row5_col7\" class=\"data row5 col7\" >A</td>\n",
       "    </tr>\n",
       "    <tr>\n",
       "      <th id=\"T_40498_level0_row6\" class=\"row_heading level0 row6\" >6</th>\n",
       "      <td id=\"T_40498_row6_col0\" class=\"data row6 col0\" >107.000000</td>\n",
       "      <td id=\"T_40498_row6_col1\" class=\"data row6 col1\" >Grace</td>\n",
       "      <td id=\"T_40498_row6_col2\" class=\"data row6 col2\" >444 Cedar Blvd</td>\n",
       "      <td id=\"T_40498_row6_col3\" class=\"data row6 col3\" >Houston</td>\n",
       "      <td id=\"T_40498_row6_col4\" class=\"data row6 col4\" >Science</td>\n",
       "      <td id=\"T_40498_row6_col5\" class=\"data row6 col5\" >80.000000</td>\n",
       "      <td id=\"T_40498_row6_col6\" class=\"data row6 col6\" >5</td>\n",
       "      <td id=\"T_40498_row6_col7\" class=\"data row6 col7\" >C</td>\n",
       "    </tr>\n",
       "    <tr>\n",
       "      <th id=\"T_40498_level0_row7\" class=\"row_heading level0 row7\" >7</th>\n",
       "      <td id=\"T_40498_row7_col0\" class=\"data row7 col0\" >108.000000</td>\n",
       "      <td id=\"T_40498_row7_col1\" class=\"data row7 col1\" >Henry</td>\n",
       "      <td id=\"T_40498_row7_col2\" class=\"data row7 col2\" >555 Birch Dr</td>\n",
       "      <td id=\"T_40498_row7_col3\" class=\"data row7 col3\" >New York</td>\n",
       "      <td id=\"T_40498_row7_col4\" class=\"data row7 col4\" >English</td>\n",
       "      <td id=\"T_40498_row7_col5\" class=\"data row7 col5\" >88.000000</td>\n",
       "      <td id=\"T_40498_row7_col6\" class=\"data row7 col6\" >3</td>\n",
       "      <td id=\"T_40498_row7_col7\" class=\"data row7 col7\" >B</td>\n",
       "    </tr>\n",
       "  </tbody>\n",
       "</table>\n"
      ],
      "text/plain": [
       "<pandas.io.formats.style.Styler at 0x150077290>"
      ]
     },
     "execution_count": 33,
     "metadata": {},
     "output_type": "execute_result"
    }
   ],
   "source": [
    "df.style.highlight_null('red')"
   ]
  },
  {
   "cell_type": "code",
   "execution_count": 40,
   "id": "4d57f65f",
   "metadata": {},
   "outputs": [
    {
     "data": {
      "text/html": [
       "<div>\n",
       "<style scoped>\n",
       "    .dataframe tbody tr th:only-of-type {\n",
       "        vertical-align: middle;\n",
       "    }\n",
       "\n",
       "    .dataframe tbody tr th {\n",
       "        vertical-align: top;\n",
       "    }\n",
       "\n",
       "    .dataframe thead th {\n",
       "        text-align: right;\n",
       "    }\n",
       "</style>\n",
       "<table border=\"1\" class=\"dataframe\">\n",
       "  <thead>\n",
       "    <tr style=\"text-align: right;\">\n",
       "      <th></th>\n",
       "      <th>Marks</th>\n",
       "    </tr>\n",
       "  </thead>\n",
       "  <tbody>\n",
       "    <tr>\n",
       "      <th>0</th>\n",
       "      <td>85.0</td>\n",
       "    </tr>\n",
       "    <tr>\n",
       "      <th>1</th>\n",
       "      <td>92.0</td>\n",
       "    </tr>\n",
       "    <tr>\n",
       "      <th>2</th>\n",
       "      <td>78.0</td>\n",
       "    </tr>\n",
       "    <tr>\n",
       "      <th>3</th>\n",
       "      <td>89.0</td>\n",
       "    </tr>\n",
       "    <tr>\n",
       "      <th>4</th>\n",
       "      <td>95.0</td>\n",
       "    </tr>\n",
       "    <tr>\n",
       "      <th>5</th>\n",
       "      <td>95.0</td>\n",
       "    </tr>\n",
       "    <tr>\n",
       "      <th>6</th>\n",
       "      <td>80.0</td>\n",
       "    </tr>\n",
       "    <tr>\n",
       "      <th>7</th>\n",
       "      <td>88.0</td>\n",
       "    </tr>\n",
       "  </tbody>\n",
       "</table>\n",
       "</div>"
      ],
      "text/plain": [
       "   Marks\n",
       "0   85.0\n",
       "1   92.0\n",
       "2   78.0\n",
       "3   89.0\n",
       "4   95.0\n",
       "5   95.0\n",
       "6   80.0\n",
       "7   88.0"
      ]
     },
     "execution_count": 40,
     "metadata": {},
     "output_type": "execute_result"
    }
   ],
   "source": [
    "back_fill = df['Marks'].bfill()\n",
    "back_fill.to_frame()"
   ]
  },
  {
   "cell_type": "code",
   "execution_count": 41,
   "id": "07942c92",
   "metadata": {},
   "outputs": [
    {
     "data": {
      "text/html": [
       "<div>\n",
       "<style scoped>\n",
       "    .dataframe tbody tr th:only-of-type {\n",
       "        vertical-align: middle;\n",
       "    }\n",
       "\n",
       "    .dataframe tbody tr th {\n",
       "        vertical-align: top;\n",
       "    }\n",
       "\n",
       "    .dataframe thead th {\n",
       "        text-align: right;\n",
       "    }\n",
       "</style>\n",
       "<table border=\"1\" class=\"dataframe\">\n",
       "  <thead>\n",
       "    <tr style=\"text-align: right;\">\n",
       "      <th></th>\n",
       "      <th>Marks</th>\n",
       "    </tr>\n",
       "  </thead>\n",
       "  <tbody>\n",
       "    <tr>\n",
       "      <th>0</th>\n",
       "      <td>85.0</td>\n",
       "    </tr>\n",
       "    <tr>\n",
       "      <th>1</th>\n",
       "      <td>92.0</td>\n",
       "    </tr>\n",
       "    <tr>\n",
       "      <th>2</th>\n",
       "      <td>78.0</td>\n",
       "    </tr>\n",
       "    <tr>\n",
       "      <th>3</th>\n",
       "      <td>89.0</td>\n",
       "    </tr>\n",
       "    <tr>\n",
       "      <th>4</th>\n",
       "      <td>89.0</td>\n",
       "    </tr>\n",
       "    <tr>\n",
       "      <th>5</th>\n",
       "      <td>95.0</td>\n",
       "    </tr>\n",
       "    <tr>\n",
       "      <th>6</th>\n",
       "      <td>80.0</td>\n",
       "    </tr>\n",
       "    <tr>\n",
       "      <th>7</th>\n",
       "      <td>88.0</td>\n",
       "    </tr>\n",
       "  </tbody>\n",
       "</table>\n",
       "</div>"
      ],
      "text/plain": [
       "   Marks\n",
       "0   85.0\n",
       "1   92.0\n",
       "2   78.0\n",
       "3   89.0\n",
       "4   89.0\n",
       "5   95.0\n",
       "6   80.0\n",
       "7   88.0"
      ]
     },
     "execution_count": 41,
     "metadata": {},
     "output_type": "execute_result"
    }
   ],
   "source": [
    "forfill = df['Marks'].ffill()\n",
    "forfill.to_frame()"
   ]
  },
  {
   "cell_type": "code",
   "execution_count": 45,
   "id": "a29192e1",
   "metadata": {},
   "outputs": [
    {
     "data": {
      "text/plain": [
       "array([1, 2, 3, 4, 5, 6])"
      ]
     },
     "execution_count": 45,
     "metadata": {},
     "output_type": "execute_result"
    }
   ],
   "source": [
    "np.arange(1,len(df['Marks'])-1,1)"
   ]
  },
  {
   "cell_type": "code",
   "execution_count": 46,
   "id": "591048ed",
   "metadata": {},
   "outputs": [
    {
     "data": {
      "text/plain": [
       "array([85., 92., 78., 89., nan, 95., 80., 88.])"
      ]
     },
     "execution_count": 46,
     "metadata": {},
     "output_type": "execute_result"
    }
   ],
   "source": [
    "np.array(df['Marks'])"
   ]
  },
  {
   "cell_type": "code",
   "execution_count": 50,
   "id": "93d96cfc",
   "metadata": {},
   "outputs": [
    {
     "data": {
      "text/plain": [
       "[78.0, 80.0, 85.0, 88.0, 89.0, 92.0, nan, 95.0]"
      ]
     },
     "execution_count": 50,
     "metadata": {},
     "output_type": "execute_result"
    }
   ],
   "source": [
    "sorted(df['Marks'])"
   ]
  },
  {
   "cell_type": "markdown",
   "id": "8185be54",
   "metadata": {},
   "source": [
    "**3. Interpolation Techniques**\n",
    "\n",
    "**3.1 Linear Interpolation\n",
    "\n",
    "`df['Marks'].interpolate(method='linear')` : This method performs linear interpolation on the ‘Marks’ column of the DataFrame (df). \n",
    "\n",
    "Linear interpolation estimates missing values by considering a straight line between two adjacent non-missing values.\n",
    "\n",
    "linear_interpolation: The result is stored in the variable linear_interpolation.\n",
    "\n",
    "**3.2 Quadratic Interpolation**\n",
    "`df['Marks'].interpolate(method='quadratic')`: This method performs quadratic interpolation on the ‘Marks’ column. \n",
    "\n",
    "Quadratic interpolation estimates missing values by considering a quadratic curve that passes through three adjacent non-missing values.\n",
    "\n",
    "quadratic_interpolation: The result is stored in the variable quadratic_interpolation."
   ]
  },
  {
   "cell_type": "code",
   "execution_count": 60,
   "id": "96b86b82",
   "metadata": {},
   "outputs": [
    {
     "data": {
      "image/png": "[encoded data removed]",
      "text/plain": [
       "<Figure size 640x480 with 1 Axes>"
      ]
     },
     "metadata": {},
     "output_type": "display_data"
    }
   ],
   "source": [
    "import matplotlib.pyplot as plt\n",
    "import numpy as np\n",
    "import seaborn as sns\n",
    "sns.set()\n",
    "plt.plot(np.array(sorted(df['Marks'].dropna())))\n",
    "plt.show()\n",
    "#ข้อมูลน่าจะเป็น linear"
   ]
  },
  {
   "cell_type": "code",
   "execution_count": 56,
   "id": "90edcc04",
   "metadata": {},
   "outputs": [
    {
     "data": {
      "text/html": [
       "<style type=\"text/css\">\n",
       "#T_983bf_row3_col0, #T_983bf_row4_col2, #T_983bf_row4_col5, #T_983bf_row5_col3 {\n",
       "  background-color: red;\n",
       "}\n",
       "</style>\n",
       "<table id=\"T_983bf\">\n",
       "  <thead>\n",
       "    <tr>\n",
       "      <th class=\"blank level0\" >&nbsp;</th>\n",
       "      <th id=\"T_983bf_level0_col0\" class=\"col_heading level0 col0\" >School ID</th>\n",
       "      <th id=\"T_983bf_level0_col1\" class=\"col_heading level0 col1\" >Name</th>\n",
       "      <th id=\"T_983bf_level0_col2\" class=\"col_heading level0 col2\" >Address</th>\n",
       "      <th id=\"T_983bf_level0_col3\" class=\"col_heading level0 col3\" >City</th>\n",
       "      <th id=\"T_983bf_level0_col4\" class=\"col_heading level0 col4\" >Subject</th>\n",
       "      <th id=\"T_983bf_level0_col5\" class=\"col_heading level0 col5\" >Marks</th>\n",
       "      <th id=\"T_983bf_level0_col6\" class=\"col_heading level0 col6\" >Rank</th>\n",
       "      <th id=\"T_983bf_level0_col7\" class=\"col_heading level0 col7\" >Grade</th>\n",
       "    </tr>\n",
       "  </thead>\n",
       "  <tbody>\n",
       "    <tr>\n",
       "      <th id=\"T_983bf_level0_row0\" class=\"row_heading level0 row0\" >0</th>\n",
       "      <td id=\"T_983bf_row0_col0\" class=\"data row0 col0\" >101.000000</td>\n",
       "      <td id=\"T_983bf_row0_col1\" class=\"data row0 col1\" >Alice</td>\n",
       "      <td id=\"T_983bf_row0_col2\" class=\"data row0 col2\" >123 Main St</td>\n",
       "      <td id=\"T_983bf_row0_col3\" class=\"data row0 col3\" >Los Angeles</td>\n",
       "      <td id=\"T_983bf_row0_col4\" class=\"data row0 col4\" >Math</td>\n",
       "      <td id=\"T_983bf_row0_col5\" class=\"data row0 col5\" >85.000000</td>\n",
       "      <td id=\"T_983bf_row0_col6\" class=\"data row0 col6\" >2</td>\n",
       "      <td id=\"T_983bf_row0_col7\" class=\"data row0 col7\" >B</td>\n",
       "    </tr>\n",
       "    <tr>\n",
       "      <th id=\"T_983bf_level0_row1\" class=\"row_heading level0 row1\" >1</th>\n",
       "      <td id=\"T_983bf_row1_col0\" class=\"data row1 col0\" >102.000000</td>\n",
       "      <td id=\"T_983bf_row1_col1\" class=\"data row1 col1\" >Bob</td>\n",
       "      <td id=\"T_983bf_row1_col2\" class=\"data row1 col2\" >456 Oak Ave</td>\n",
       "      <td id=\"T_983bf_row1_col3\" class=\"data row1 col3\" >New York</td>\n",
       "      <td id=\"T_983bf_row1_col4\" class=\"data row1 col4\" >English</td>\n",
       "      <td id=\"T_983bf_row1_col5\" class=\"data row1 col5\" >92.000000</td>\n",
       "      <td id=\"T_983bf_row1_col6\" class=\"data row1 col6\" >1</td>\n",
       "      <td id=\"T_983bf_row1_col7\" class=\"data row1 col7\" >A</td>\n",
       "    </tr>\n",
       "    <tr>\n",
       "      <th id=\"T_983bf_level0_row2\" class=\"row_heading level0 row2\" >2</th>\n",
       "      <td id=\"T_983bf_row2_col0\" class=\"data row2 col0\" >103.000000</td>\n",
       "      <td id=\"T_983bf_row2_col1\" class=\"data row2 col1\" >Charlie</td>\n",
       "      <td id=\"T_983bf_row2_col2\" class=\"data row2 col2\" >789 Pine Ln</td>\n",
       "      <td id=\"T_983bf_row2_col3\" class=\"data row2 col3\" >Houston</td>\n",
       "      <td id=\"T_983bf_row2_col4\" class=\"data row2 col4\" >Science</td>\n",
       "      <td id=\"T_983bf_row2_col5\" class=\"data row2 col5\" >78.000000</td>\n",
       "      <td id=\"T_983bf_row2_col6\" class=\"data row2 col6\" >4</td>\n",
       "      <td id=\"T_983bf_row2_col7\" class=\"data row2 col7\" >C</td>\n",
       "    </tr>\n",
       "    <tr>\n",
       "      <th id=\"T_983bf_level0_row3\" class=\"row_heading level0 row3\" >3</th>\n",
       "      <td id=\"T_983bf_row3_col0\" class=\"data row3 col0\" >nan</td>\n",
       "      <td id=\"T_983bf_row3_col1\" class=\"data row3 col1\" >David</td>\n",
       "      <td id=\"T_983bf_row3_col2\" class=\"data row3 col2\" >101 Elm St</td>\n",
       "      <td id=\"T_983bf_row3_col3\" class=\"data row3 col3\" >Los Angeles</td>\n",
       "      <td id=\"T_983bf_row3_col4\" class=\"data row3 col4\" >Math</td>\n",
       "      <td id=\"T_983bf_row3_col5\" class=\"data row3 col5\" >89.000000</td>\n",
       "      <td id=\"T_983bf_row3_col6\" class=\"data row3 col6\" >3</td>\n",
       "      <td id=\"T_983bf_row3_col7\" class=\"data row3 col7\" >B</td>\n",
       "    </tr>\n",
       "    <tr>\n",
       "      <th id=\"T_983bf_level0_row4\" class=\"row_heading level0 row4\" >4</th>\n",
       "      <td id=\"T_983bf_row4_col0\" class=\"data row4 col0\" >105.000000</td>\n",
       "      <td id=\"T_983bf_row4_col1\" class=\"data row4 col1\" >Eva</td>\n",
       "      <td id=\"T_983bf_row4_col2\" class=\"data row4 col2\" >nan</td>\n",
       "      <td id=\"T_983bf_row4_col3\" class=\"data row4 col3\" >Miami</td>\n",
       "      <td id=\"T_983bf_row4_col4\" class=\"data row4 col4\" >History</td>\n",
       "      <td id=\"T_983bf_row4_col5\" class=\"data row4 col5\" >nan</td>\n",
       "      <td id=\"T_983bf_row4_col6\" class=\"data row4 col6\" >8</td>\n",
       "      <td id=\"T_983bf_row4_col7\" class=\"data row4 col7\" >D</td>\n",
       "    </tr>\n",
       "    <tr>\n",
       "      <th id=\"T_983bf_level0_row5\" class=\"row_heading level0 row5\" >5</th>\n",
       "      <td id=\"T_983bf_row5_col0\" class=\"data row5 col0\" >106.000000</td>\n",
       "      <td id=\"T_983bf_row5_col1\" class=\"data row5 col1\" >Frank</td>\n",
       "      <td id=\"T_983bf_row5_col2\" class=\"data row5 col2\" >222 Maple Rd</td>\n",
       "      <td id=\"T_983bf_row5_col3\" class=\"data row5 col3\" >nan</td>\n",
       "      <td id=\"T_983bf_row5_col4\" class=\"data row5 col4\" >Math</td>\n",
       "      <td id=\"T_983bf_row5_col5\" class=\"data row5 col5\" >95.000000</td>\n",
       "      <td id=\"T_983bf_row5_col6\" class=\"data row5 col6\" >1</td>\n",
       "      <td id=\"T_983bf_row5_col7\" class=\"data row5 col7\" >A</td>\n",
       "    </tr>\n",
       "    <tr>\n",
       "      <th id=\"T_983bf_level0_row6\" class=\"row_heading level0 row6\" >6</th>\n",
       "      <td id=\"T_983bf_row6_col0\" class=\"data row6 col0\" >107.000000</td>\n",
       "      <td id=\"T_983bf_row6_col1\" class=\"data row6 col1\" >Grace</td>\n",
       "      <td id=\"T_983bf_row6_col2\" class=\"data row6 col2\" >444 Cedar Blvd</td>\n",
       "      <td id=\"T_983bf_row6_col3\" class=\"data row6 col3\" >Houston</td>\n",
       "      <td id=\"T_983bf_row6_col4\" class=\"data row6 col4\" >Science</td>\n",
       "      <td id=\"T_983bf_row6_col5\" class=\"data row6 col5\" >80.000000</td>\n",
       "      <td id=\"T_983bf_row6_col6\" class=\"data row6 col6\" >5</td>\n",
       "      <td id=\"T_983bf_row6_col7\" class=\"data row6 col7\" >C</td>\n",
       "    </tr>\n",
       "    <tr>\n",
       "      <th id=\"T_983bf_level0_row7\" class=\"row_heading level0 row7\" >7</th>\n",
       "      <td id=\"T_983bf_row7_col0\" class=\"data row7 col0\" >108.000000</td>\n",
       "      <td id=\"T_983bf_row7_col1\" class=\"data row7 col1\" >Henry</td>\n",
       "      <td id=\"T_983bf_row7_col2\" class=\"data row7 col2\" >555 Birch Dr</td>\n",
       "      <td id=\"T_983bf_row7_col3\" class=\"data row7 col3\" >New York</td>\n",
       "      <td id=\"T_983bf_row7_col4\" class=\"data row7 col4\" >English</td>\n",
       "      <td id=\"T_983bf_row7_col5\" class=\"data row7 col5\" >88.000000</td>\n",
       "      <td id=\"T_983bf_row7_col6\" class=\"data row7 col6\" >3</td>\n",
       "      <td id=\"T_983bf_row7_col7\" class=\"data row7 col7\" >B</td>\n",
       "    </tr>\n",
       "  </tbody>\n",
       "</table>\n"
      ],
      "text/plain": [
       "<pandas.io.formats.style.Styler at 0x157e83910>"
      ]
     },
     "execution_count": 56,
     "metadata": {},
     "output_type": "execute_result"
    }
   ],
   "source": [
    "df.style.highlight_null('red')"
   ]
  },
  {
   "cell_type": "code",
   "execution_count": 58,
   "id": "1dbe36a5",
   "metadata": {},
   "outputs": [
    {
     "data": {
      "text/plain": [
       "[<matplotlib.lines.Line2D at 0x157b17f90>]"
      ]
     },
     "execution_count": 58,
     "metadata": {},
     "output_type": "execute_result"
    },
    {
     "data": {
      "image/png": "[encoded data removed]",
      "text/plain": [
       "<Figure size 640x480 with 1 Axes>"
      ]
     },
     "metadata": {},
     "output_type": "display_data"
    }
   ],
   "source": [
    "linear = df['Marks'].interpolate(method='linear')\n",
    "plt.plot(sorted(linear))"
   ]
  },
  {
   "cell_type": "code",
   "execution_count": 62,
   "id": "c94db730",
   "metadata": {},
   "outputs": [
    {
     "data": {
      "text/plain": [
       "[<matplotlib.lines.Line2D at 0x1659cd1d0>]"
      ]
     },
     "execution_count": 62,
     "metadata": {},
     "output_type": "execute_result"
    },
    {
     "data": {
      "image/png": "[encoded data removed]",
      "text/plain": [
       "<Figure size 640x480 with 1 Axes>"
      ]
     },
     "metadata": {},
     "output_type": "display_data"
    }
   ],
   "source": [
    "quadatic = df['Marks'].interpolate(method='quadratic')\n",
    "plt.plot(sorted(quadatic))"
   ]
  },
  {
   "cell_type": "code",
   "execution_count": null,
   "id": "4ad09fff",
   "metadata": {},
   "outputs": [],
   "source": []
  },
  {
   "cell_type": "markdown",
   "id": "0ae757c4",
   "metadata": {},
   "source": [
    "### 3) An Extension To Imputation\n",
    "\n",
    "Imputation is the standard approach, and it usually works well. However, imputed values may be systematically above or below their actual values (which weren't collected in the dataset). Or rows with missing values may be unique in some other way. In that case, your model would make better predictions by considering which values were originally missing.  \n",
    "\n",
    "![tut3_approach3](https://storage.googleapis.com/kaggle-media/learn/images/UWOyg4a.png)\n",
    "\n",
    "In this approach, we impute the missing values, as before.  And, additionally, for each column with missing entries in the original dataset, we add a new column that shows the location of the imputed entries.\n",
    "\n",
    "In some cases, this will meaningfully improve results. In other cases, it doesn't help at all.\n",
    "\n",
    "# Example \n",
    "\n",
    "In the example, we will work with the [Melbourne Housing dataset](https://www.kaggle.com/dansbecker/melbourne-housing-snapshot/home).  Our model will use information such as the number of rooms and land size to predict home price.\n",
    "\n",
    "We won't focus on the data loading step. Instead, you can imagine you are at a point where you already have the training and validation data in `X_train`, `X_valid`, `y_train`, and `y_valid`. "
   ]
  }
 ],
 "metadata": {
  "kernelspec": {
   "display_name": "Python 3 (ipykernel)",
   "language": "python",
   "name": "python3"
  },
  "language_info": {
   "codemirror_mode": {
    "name": "ipython",
    "version": 3
   },
   "file_extension": ".py",
   "mimetype": "text/x-python",
   "name": "python",
   "nbconvert_exporter": "python",
   "pygments_lexer": "ipython3",
   "version": "3.11.7"
  }
 },
 "nbformat": 4,
 "nbformat_minor": 5
}
